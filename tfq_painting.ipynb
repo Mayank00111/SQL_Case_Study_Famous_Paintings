{
 "cells": [
  {
   "cell_type": "code",
   "execution_count": 10,
   "id": "9e88561a-85f3-4023-812a-7cf08f09ab40",
   "metadata": {},
   "outputs": [],
   "source": [
    "import pandas as pd\n",
    "import sqlalchemy as sal\n",
    "\n",
    "engine = sal.create_engine('mssql://DESKTOP-LOB21VL\\SQLEXPRESS/painting?driver=ODBC+DRIVER+17+FOR+SQL+SERVER')\n",
    "conn= engine.connect()"
   ]
  },
  {
   "cell_type": "code",
   "execution_count": 11,
   "id": "0f859f8b-275c-437b-a0d6-53ac91a037d0",
   "metadata": {},
   "outputs": [],
   "source": [
    "df = pd.read_csv(\"C:/Users/MAYANK/Downloads/archive/artist.csv\")"
   ]
  },
  {
   "cell_type": "raw",
   "id": "3a578715-7a35-4be3-9072-49a29eb3e0be",
   "metadata": {},
   "source": [
    "df"
   ]
  },
  {
   "cell_type": "code",
   "execution_count": 12,
   "id": "2c7862fb-d9e3-4398-96de-aa6e7a56a9c6",
   "metadata": {},
   "outputs": [
    {
     "data": {
      "text/plain": [
       "188"
      ]
     },
     "execution_count": 12,
     "metadata": {},
     "output_type": "execute_result"
    }
   ],
   "source": [
    "df.to_sql('artist', con=conn, if_exists='replace', index= False)"
   ]
  },
  {
   "cell_type": "code",
   "execution_count": 13,
   "id": "7bd222d9-2fa6-4743-8ff2-004d0da93502",
   "metadata": {},
   "outputs": [],
   "source": [
    "#automation to perform 8 tasks in one way with simple loop\n",
    "files = ['artist','canvas_size','image_link','museum','museum_hours','product_size','subject','work']\n",
    "\n",
    "for file in files:\n",
    "    df = pd.read_csv(f\"C:/Users/MAYANK/Downloads/archive/{file}.csv\")\n",
    "    df.to_sql(file, con=conn, if_exists='replace', index= False)"
   ]
  },
  {
   "cell_type": "code",
   "execution_count": null,
   "id": "749a6747-cb04-43fd-9bd3-f8994017305e",
   "metadata": {},
   "outputs": [],
   "source": []
  }
 ],
 "metadata": {
  "kernelspec": {
   "display_name": "Python 3 (ipykernel)",
   "language": "python",
   "name": "python3"
  },
  "language_info": {
   "codemirror_mode": {
    "name": "ipython",
    "version": 3
   },
   "file_extension": ".py",
   "mimetype": "text/x-python",
   "name": "python",
   "nbconvert_exporter": "python",
   "pygments_lexer": "ipython3",
   "version": "3.10.0"
  }
 },
 "nbformat": 4,
 "nbformat_minor": 5
}
